{
 "cells": [
  {
   "cell_type": "markdown",
   "metadata": {},
   "source": [
    "# 4Quant Interactive Visual Search\n",
    "Here we use deep learning to train and use a visual search machine in the browser "
   ]
  },
  {
   "cell_type": "code",
   "execution_count": null,
   "metadata": {},
   "outputs": [],
   "source": [
    "IMG_SIZE = (224, 224, 3)"
   ]
  },
  {
   "cell_type": "code",
   "execution_count": null,
   "metadata": {},
   "outputs": [],
   "source": [
    "from keras import applications as kapps, models, layers\n",
    "from skimage.io import imread\n",
    "import ipywidgets as ipw\n",
    "from ipywebrtc import ImageRecorder, CameraStream\n",
    "import PIL, io\n",
    "import numpy as np\n",
    "import seaborn as sns\n",
    "from IPython.display import display, Javascript\n",
    "def setup_appmode():\n",
    "    js_str = \"\"\"$('#appmode-leave').hide()\n",
    "        // Hides the edit app button.\n",
    "        $('#appmode-busy').hide()\n",
    "        // Hides the kernel busy indicator.\n",
    "        IPython.OutputArea.prototype._should_scroll = function(lines) {\n",
    "            return false\n",
    "            // disable scrolling\n",
    "        }\"\"\"\n",
    "    sns.set_style(\"whitegrid\", {'axes.grid': False})\n",
    "    display(Javascript(js_str))\n",
    "\n",
    "def get_app_user_id():\n",
    "    \"\"\"\n",
    "    Get the userid from the `jupyter_notebook_url`\n",
    "    injected by the appmode extension (if in use)\n",
    "    otherwise return a 'nobody'\n",
    "    :return: appmode username of current user\n",
    "    >>> get_app_user_id()\n",
    "    'nobody'\n",
    "    >>> jupyter_notebook_url = 'https://a.b.c?user=dan#hello'\n",
    "    >>> get_app_user_id()\n",
    "    'dan'\n",
    "    \"\"\"\n",
    "    cur_url = globals().get('jupyter_notebook_url', None)\n",
    "    if cur_url is None:\n",
    "        # black magic to get the 'injected' variable\n",
    "        frame = inspect.currentframe()\n",
    "        try:\n",
    "            out_locals = frame.f_back.f_locals\n",
    "            cur_url = out_locals.get('jupyter_notebook_url', 'nobody')\n",
    "        finally:\n",
    "            del frame\n",
    "    qs_info = parse_qs(urlparse(cur_url).query)\n",
    "    return qs_info.get('user', ['nobody'])[0]\n",
    "setup_appmode()"
   ]
  },
  {
   "cell_type": "code",
   "execution_count": null,
   "metadata": {},
   "outputs": [],
   "source": [
    "if True:\n",
    "    camera = CameraStream.facing_user(audio=False)\n",
    "else:\n",
    "    camera = CameraStream.facing_environment(audio=False)\n",
    "image_recorder = ImageRecorder(stream=camera)"
   ]
  },
  {
   "cell_type": "code",
   "execution_count": null,
   "metadata": {},
   "outputs": [],
   "source": [
    "raw_model = kapps.MobileNetV2(input_shape = IMG_SIZE, include_top=False)\n",
    "mn_model = models.Sequential()\n",
    "mn_model.add(raw_model)\n",
    "mn_model.add(layers.GlobalAvgPool2D())\n",
    "prep_func = kapps.mobilenet_v2.preprocess_input"
   ]
  },
  {
   "cell_type": "code",
   "execution_count": null,
   "metadata": {},
   "outputs": [],
   "source": [
    "global vec_list, name_list, img_list\n",
    "vec_list, name_list, img_list = [], [], []"
   ]
  },
  {
   "cell_type": "code",
   "execution_count": null,
   "metadata": {
    "scrolled": false
   },
   "outputs": [],
   "source": [
    "search_results = ipw.Image()\n",
    "output = ipw.Output()\n",
    "tool_options = [('train', 1), ('search', 0)]\n",
    "tool_mode = ipw.ToggleButtons(options=tool_options)\n",
    "progress_bar = ipw.IntProgress(\n",
    "    value=0,\n",
    "    min=0,\n",
    "    max=100,\n",
    "    description='Waiting...',\n",
    "    bar_style='info',\n",
    "    orientation='horizontal'\n",
    ")\n",
    "@output.capture()\n",
    "def update_image(change):\n",
    "    global vec_list, name_list, img_list\n",
    "    progress_bar.value=0\n",
    "    progress_bar.bar_style='info'\n",
    "    full_im = PIL.Image.open(io.BytesIO(image_recorder.image.value))\n",
    "    im_in = full_im.resize(IMG_SIZE[:2])\n",
    "    im_array = np.array(im_in)[...,:3] # no alpha\n",
    "    progress_bar.description='Processing Image...'\n",
    "    progress_bar.value=25\n",
    "    \n",
    "    im_array = np.expand_dims(im_array.astype(np.float32), 0)\n",
    "    prep_array = prep_func(im_array)\n",
    "    out_vec = mn_model.predict(prep_array)[0]\n",
    "    if tool_mode.value==1:\n",
    "        progress_bar.description='Training...'\n",
    "        progress_bar.value=75\n",
    "        vec_list += [out_vec]\n",
    "        name_list += ['Local']\n",
    "        img_list += [full_im]\n",
    "    else:\n",
    "        progress_bar.description='Searching...'\n",
    "        progress_bar.value=50\n",
    "        if len(vec_list)>0:\n",
    "            vec_mat = np.stack(vec_list, 0)\n",
    "            v_score = np.dot(vec_mat, out_vec)\n",
    "            match_idx = np.argsort(-1*v_score)[:2]\n",
    "            if len(match_idx)>1:\n",
    "                out_img = PIL.Image.fromarray(np.concatenate([img_list[i] for i in match_idx], 1))\n",
    "            else:\n",
    "                out_img = img_list[match_idx]\n",
    "            temp_io = io.BytesIO()\n",
    "            out_img.save(temp_io, format='png')\n",
    "            search_results.value = temp_io.getvalue()\n",
    "    progress_bar.value=100\n",
    "    progress_bar.bar_style='success'\n",
    "    \n",
    "image_recorder.image.observe(update_image, 'value')\n",
    "def _tool_switch(change):\n",
    "    progress_bar.value=0\n",
    "    progress_bar.bar_style='info'\n",
    "    if tool_mode.value==0:\n",
    "        progress_bar.description='Search'\n",
    "    else:\n",
    "        progress_bar.description='Train'\n",
    "        \n",
    "tool_mode.observe(_tool_switch, 'value')\n",
    "ipw.VBox([\n",
    "    ipw.HBox([tool_mode,progress_bar]), \n",
    "          camera, \n",
    "          ipw.HBox([image_recorder, \n",
    "                    ipw.VBox([ipw.Label('Search Results:'), search_results])\n",
    "                   ]), \n",
    "          output])"
   ]
  },
  {
   "cell_type": "code",
   "execution_count": null,
   "metadata": {},
   "outputs": [],
   "source": []
  },
  {
   "cell_type": "code",
   "execution_count": null,
   "metadata": {},
   "outputs": [],
   "source": []
  }
 ],
 "metadata": {
  "kernelspec": {
   "display_name": "Python 3",
   "language": "python",
   "name": "python3"
  },
  "language_info": {
   "codemirror_mode": {
    "name": "ipython",
    "version": 3
   },
   "file_extension": ".py",
   "mimetype": "text/x-python",
   "name": "python",
   "nbconvert_exporter": "python",
   "pygments_lexer": "ipython3",
   "version": "3.6.6"
  }
 },
 "nbformat": 4,
 "nbformat_minor": 2
}
