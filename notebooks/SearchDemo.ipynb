{
 "cells": [
  {
   "cell_type": "code",
   "execution_count": null,
   "metadata": {},
   "outputs": [],
   "source": [
    "IMG_SIZE = (224, 224, 3)"
   ]
  },
  {
   "cell_type": "code",
   "execution_count": null,
   "metadata": {},
   "outputs": [],
   "source": [
    "from keras import applications as kapps\n",
    "from skimage.io import imread\n",
    "import ipywidgets as ipw\n",
    "from ipywebrtc import ImageRecorder, CameraStream\n",
    "import PIL, io\n",
    "import numpy as np"
   ]
  },
  {
   "cell_type": "code",
   "execution_count": null,
   "metadata": {},
   "outputs": [],
   "source": [
    "if True:\n",
    "    camera = CameraStream.facing_user(audio=False)\n",
    "else:\n",
    "    camera = CameraStream.facing_environment(audio=False)\n",
    "image_recorder = ImageRecorder(stream=camera)"
   ]
  },
  {
   "cell_type": "code",
   "execution_count": null,
   "metadata": {},
   "outputs": [],
   "source": [
    "mn_model = kapps.MobileNetV2(input_shape = IMG_SIZE, include_top=False)\n",
    "prep_func = kapps.mobilenet_v2.preprocess_input"
   ]
  },
  {
   "cell_type": "code",
   "execution_count": null,
   "metadata": {
    "scrolled": false
   },
   "outputs": [],
   "source": [
    "image = ipw.Image()\n",
    "output = ipw.Output()\n",
    "tool_options = [('train', 1), ('search', 0)]\n",
    "tool_mode = ipw.ToggleButtons(options=tool_options)\n",
    "\n",
    "@output.capture()\n",
    "def update_image(change):\n",
    "    # turn into nparray\n",
    "    im_in = PIL.Image.open(io.BytesIO(image_recorder.image.value))\n",
    "    im_in = im_in.resize(IMG_SIZE[:2])\n",
    "    im_array = np.array(im_in)[...,:3] # no alpha\n",
    "    im_array = np.expand_dims(im_array.astype(np.float32), 0)\n",
    "    prep_array = prep_func(im_array)\n",
    "    mn_model.predict(prep_array)\n",
    "    print(tool_mode.value)\n",
    "\n",
    "image_recorder.image.observe(update_image, 'value')\n",
    "tool_mode.observe(update_image, 'value')\n",
    "ipw.VBox([tool_mode, camera, ipw.HBox([image_recorder, image]), output])"
   ]
  }
 ],
 "metadata": {
  "kernelspec": {
   "display_name": "Python 3",
   "language": "python",
   "name": "python3"
  },
  "language_info": {
   "codemirror_mode": {
    "name": "ipython",
    "version": 3
   },
   "file_extension": ".py",
   "mimetype": "text/x-python",
   "name": "python",
   "nbconvert_exporter": "python",
   "pygments_lexer": "ipython3",
   "version": "3.6.6"
  }
 },
 "nbformat": 4,
 "nbformat_minor": 2
}
